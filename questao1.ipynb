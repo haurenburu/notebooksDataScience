{
 "cells": [
  {
   "cell_type": "code",
   "execution_count": 48,
   "metadata": {},
   "outputs": [
    {
     "name": "stdout",
     "output_type": "stream",
     "text": [
      "Id do concurso: 2344\n",
      "{'_id': ObjectId('6047edc6549e570b3627bbb9'), '2340': ['16', '21', '28', '41', '49', '51']}\n",
      "{'_id': ObjectId('6047ee0c549e570b3627bbbb'), '2344': ['11', '17', '25', '38', '52', '57']}\n"
     ]
    }
   ],
   "source": [
    "#!pip install -U selenium\n",
    "#!pip install pymongo\n",
    "\n",
    "import pymongo\n",
    "from selenium import webdriver\n",
    "from bs4 import BeautifulSoup as soup\n",
    "\n",
    "idUrl = input(\"Id do concurso: \")\n",
    "\n",
    "options = webdriver.ChromeOptions()\n",
    "options.add_argument('headless')\n",
    "options.add_argument('window-size=1920x1080')\n",
    "options.add_argument('ignore-certificate-errors')\n",
    "\n",
    "driver = webdriver.Chrome(executable_path = r'C:/chromedriver.exe', options = options)\n",
    "numbers = {}\n",
    "numbers[idUrl] = []\n",
    "\n",
    "try:\n",
    "    driver.get('https://www.loteriaseresultados.com.br/index.php/megasena/concurso/'+str(idUrl))\n",
    "    content = driver.find_elements_by_css_selector(\"span[class='white--text font-weight-bold']\")\n",
    "    for i in range(6):\n",
    "        numbers[idUrl].append(content[i].get_attribute('innerHTML'))\n",
    "except:\n",
    "    print(\"deu ruim\")\n",
    "    \n",
    "driver.quit()\n",
    "\n",
    "client = pymongo.MongoClient(\"mongodb://localhost:27017/\")\n",
    "db = client[\"concursos\"]\n",
    "col = db[\"megasena\"]\n",
    "try:\n",
    "    x = mycol.insert_one(numbers)\n",
    "except:\n",
    "    print(\"Chave invalida\")\n",
    "\n",
    "for x in col.find():\n",
    "    print(x)"
   ]
  }
 ],
 "metadata": {
  "kernelspec": {
   "display_name": "Python 3",
   "language": "python",
   "name": "python3"
  },
  "language_info": {
   "codemirror_mode": {
    "name": "ipython",
    "version": 3
   },
   "file_extension": ".py",
   "mimetype": "text/x-python",
   "name": "python",
   "nbconvert_exporter": "python",
   "pygments_lexer": "ipython3",
   "version": "3.8.5"
  }
 },
 "nbformat": 4,
 "nbformat_minor": 4
}
